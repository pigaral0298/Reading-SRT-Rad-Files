{
 "cells": [
  {
   "cell_type": "code",
   "execution_count": null,
   "metadata": {},
   "outputs": [],
   "source": [
    "#import statements\n",
    "import numpy as np"
   ]
  },
  {
   "cell_type": "code",
   "execution_count": null,
   "metadata": {},
   "outputs": [],
   "source": [
    "#parameters and initialization\n",
    "full_spectra_range = 1.21875 #MHz\n",
    "half_range = full_spectra_range/2"
   ]
  },
  {
   "cell_type": "code",
   "execution_count": null,
   "metadata": {},
   "outputs": [],
   "source": [
    "calibration = [] #where the calibration spectra will be stored\n",
    "spectra = [] #All the spectra. This list contains lists which are the individual spectra\n",
    "x_freq = [] #contains the frequencies for each measurement for the spectra"
   ]
  },
  {
   "cell_type": "code",
   "execution_count": null,
   "metadata": {},
   "outputs": [],
   "source": [
    "#User input prompts\n",
    "year = str(input(\"What is the observing year? (yyyy):\"))\n",
    "file_path = r\"\"\n",
    "file_path += str(input(\"What is the full file path? (C:/users/<user>/Documents/filename.rad)\"))\n",
    "if file_path == \" \":\n",
    "    #for testing purposes\n",
    "    file_path = r\"/home/pigaral0298/Downloads/Pigarelli_29_15oct20.rad\"\n",
    "print(\"What mode? (0= keep in list variables for JupyterNotebooks, 1= Write to output files\")\n",
    "mode = int(input(\"If using a JupyterNotebook, you'll probably want to choose mode 0, if working as a script/in an IDE, you'll probably want to choose mode 1\"))\n",
    "if mode == 1:\n",
    "    output_file_path = str(input(\"Where do you want to keep the output files? (specify folder path without end slash):\"))\n",
    "int_time = int(input(\"Integration time (s):\"))\n",
    "int_time_str = \":\" + str(int_time)"
   ]
  },
  {
   "cell_type": "code",
   "execution_count": null,
   "metadata": {},
   "outputs": [],
   "source": [
    "#reading the data file and putting all data into lists\n",
    "with open(file_path,'r') as infile:\n",
    "    counter = 0\n",
    "    trigger = 0\n",
    "    t_sys_trigger = 0\n",
    "    int_time_str_trigger = 0\n",
    "    noisecal_trigger = 0\n",
    "    t_sys_trigger = 0\n",
    "    for line in infile:\n",
    "        counter += 1\n",
    "        if int_time_str in line:\n",
    "            int_time_str_trigger = 1\n",
    "        if \"noisecal\" in line:\n",
    "            noisecal_trigger = 1\n",
    "        if \"freq\" in line:\n",
    "            line_list = line.strip().split()\n",
    "            ind = line_list.index(\"freq\")\n",
    "            freq_index = ind+1\n",
    "            frequency = float(line_list[freq_index])\n",
    "            lower = frequency - half_range\n",
    "            upper = frequency + half_range\n",
    "            x_axis_frequencies = np.arange(start=lower,stop=upper,step=0.0078125)\n",
    "            x_freq = x_axis_frequencies\n",
    "        if line[:4] == year and trigger == 0 and noisecal_trigger == 1:\n",
    "            trigger = 1\n",
    "            line_list = line.strip().split()\n",
    "            str_spec = line_list[-156:]\n",
    "            for item in str_spec:\n",
    "                calibration.append(float(item))\n",
    "        if \"tsys\" in line:\n",
    "            line_list = line.strip().split()\n",
    "            print(\"Tsys =\",str(line_list[2]))\n",
    "            print(\"Calcons =\",str(line_list[4]))\n",
    "            print(\"Trecvr = \",str(line_list[6]))\n",
    "            print(\"tload = \", str(line_list[8]))\n",
    "            print(\"tspill =\", str(line_list[10]))\n",
    "            t_sys_trigger = 1\n",
    "        if line[:4] == year and trigger == 1 and int_time_str_trigger == 1 and noisecal_trigger == 1 and t_sys_trigger == 1:\n",
    "            specific_spec = []\n",
    "            line_list = line.strip().split()\n",
    "            str_spec = line_list[-156:]\n",
    "            for item in str_spec:\n",
    "                specific_spec.append(float(item))\n",
    "            spectra.append(specific_spec)\n",
    "infile.close()\n",
    "print(\"Done\")"
   ]
  },
  {
   "cell_type": "code",
   "execution_count": null,
   "metadata": {},
   "outputs": [],
   "source": [
    "#if user chooses, calibration, spectra, and x_freq can be written to files\n",
    "#This block asks for a folder and outputs two types of documents: 1. Calibration file 2.Spectra files\n",
    "#Both have the same format, a frequency followed by a space and then measured intensity and an end of line \"\\n\"\n",
    "#This block creates a new spectrum file for every spectrum included in the inital document\n",
    "#Output \".dat\" file works just the same as reading any other text file (use: open(filename,mode))        \n",
    "\n",
    "last_calibration = calibration[-156:]\n",
    "\n",
    "if mode == 1:\n",
    "    num_files = len(spectra)\n",
    "    c = output_file_path + \"/calibration.dat\"\n",
    "    with open(c,'w') as outfile:\n",
    "        for i in range(len(x_freq)):\n",
    "            str_to_write = \"\"\n",
    "            str_to_write += str(x_freq[i]) + \" \" + str(last_calibration[i]) + \"\\n\"\n",
    "            outfile.write(str_to_write)\n",
    "    outfile.close()\n",
    "    for j in range(num_files):\n",
    "        s = output_file_path + \"/spectra_\" + str(j) + \".dat\"\n",
    "        with open(s,'w') as outfile:\n",
    "            for k in range(len(x_freq)):\n",
    "                str_to_write = \"\"\n",
    "                str_to_write += str(x_freq[k]) + \" \" + str(spectra[j][k]) + \"\\n\"\n",
    "                outfile.write(str_to_write)\n",
    "        outfile.close()\n",
    "print(\"Done\")"
   ]
  }
 ],
 "metadata": {
  "kernelspec": {
   "display_name": "Python 3",
   "language": "python",
   "name": "python3"
  },
  "language_info": {
   "codemirror_mode": {
    "name": "ipython",
    "version": 3
   },
   "file_extension": ".py",
   "mimetype": "text/x-python",
   "name": "python",
   "nbconvert_exporter": "python",
   "pygments_lexer": "ipython3",
   "version": "3.8.3"
  }
 },
 "nbformat": 4,
 "nbformat_minor": 4
}
